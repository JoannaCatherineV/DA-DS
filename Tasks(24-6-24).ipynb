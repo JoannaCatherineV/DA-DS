{
 "cells": [
  {
   "cell_type": "code",
   "execution_count": 5,
   "id": "02390405-da2e-434d-8cea-f165b15a621b",
   "metadata": {},
   "outputs": [
    {
     "name": "stdout",
     "output_type": "stream",
     "text": [
      "\n"
     ]
    }
   ],
   "source": [
    "a= 'google_meet'\n",
    "\n",
    "print(a[0:10:-2])\n"
   ]
  },
  {
   "cell_type": "code",
   "execution_count": 18,
   "id": "29a4f972-f21f-4e17-85f6-db81eba33f8d",
   "metadata": {},
   "outputs": [
    {
     "name": "stdout",
     "output_type": "stream",
     "text": [
      "g\n",
      "teem_elgoog\n",
      "_log\n"
     ]
    }
   ],
   "source": [
    "a='google_meet'\n",
    "print(a[0])\n",
    "print(a[::-1])\n",
    "print(a[6::-2])"
   ]
  },
  {
   "cell_type": "code",
   "execution_count": 6,
   "id": "9229ec0c-b3ff-43b2-a373-cd5eb9342266",
   "metadata": {},
   "outputs": [
    {
     "name": "stdout",
     "output_type": "stream",
     "text": [
      "first 5 characters: Leona\n",
      "last 3 characters: nci\n",
      "middle part: ardo_da_v\n",
      "reversed string: icniv_ad_odranoeL\n",
      "every second characters: Load_avni\n"
     ]
    }
   ],
   "source": [
    "a='Leonardo_da_vinci'\n",
    "'''\n",
    "L=0\n",
    "e=1\n",
    "o=2\n",
    "n=3\n",
    "a=4\n",
    "r=5\n",
    "d=6\n",
    "o=7\n",
    "_=8\n",
    "d=9\n",
    "a=10\n",
    "_=11\n",
    "v=12\n",
    "i=13\n",
    "n=14\n",
    "c=15\n",
    "i=16\n",
    "'''\n",
    "print(\"first 5 characters:\",a[0:5])  # 1.Given a string, extract and print the first five characters.\n",
    "print(\"last 3 characters:\",a[14:])  # 2.Given a string, extract and print the last three characters.\n",
    "print(\"middle part:\",a[4:13]) # 3.Given a string, extract and print the middle section. \n",
    "print(\"reversed string:\",a[::-1]) # 4.Given a string, reverse it and print the result.\n",
    "print(\"every second characters:\",a[::2])  # 5.Given a string, extract and print every second character."
   ]
  },
  {
   "cell_type": "code",
   "execution_count": null,
   "id": "6cc1f467-91d9-462b-a392-05a8798f5a5c",
   "metadata": {},
   "outputs": [],
   "source": []
  }
 ],
 "metadata": {
  "kernelspec": {
   "display_name": "Python 3 (ipykernel)",
   "language": "python",
   "name": "python3"
  },
  "language_info": {
   "codemirror_mode": {
    "name": "ipython",
    "version": 3
   },
   "file_extension": ".py",
   "mimetype": "text/x-python",
   "name": "python",
   "nbconvert_exporter": "python",
   "pygments_lexer": "ipython3",
   "version": "3.12.4"
  }
 },
 "nbformat": 4,
 "nbformat_minor": 5
}
