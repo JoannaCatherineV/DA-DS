{
 "cells": [
  {
   "cell_type": "code",
   "execution_count": 4,
   "id": "b072cc92-7a69-4459-883d-17f1ca163b96",
   "metadata": {},
   "outputs": [
    {
     "name": "stdout",
     "output_type": "stream",
     "text": [
      "10 <class 'int'>\n",
      "Joanna <class 'str'>\n",
      "10.5 <class 'float'>\n",
      "True <class 'bool'>\n"
     ]
    }
   ],
   "source": [
    "'''Task 2: Working with Keywords and Variables Create a Python script. Declare and initialize variables of different types (integer, float, string, boolean). \n",
    "Print the values and types of these variables.'''\n",
    "\n",
    "x=10\n",
    "y= 'Joanna'\n",
    "z= 10.5\n",
    "p= True\n",
    "\n",
    "print(x , type(x))\n",
    "print(y , type(y))\n",
    "print(z , type(z))\n",
    "print(p , type(p))"
   ]
  },
  {
   "cell_type": "code",
   "execution_count": 11,
   "id": "010f7c36-3d31-470e-98dc-42c6be62d826",
   "metadata": {},
   "outputs": [
    {
     "name": "stdin",
     "output_type": "stream",
     "text": [
      "name: blue\n",
      "age: 14\n",
      "height: 150.24\n"
     ]
    },
    {
     "name": "stdout",
     "output_type": "stream",
     "text": [
      "summary of the data: blue is 14 year old, with the height of 150.24 cm\n"
     ]
    }
   ],
   "source": [
    "'''Task 3: Fetching User Input and Using Type Casting Create a Python script. Fetch user's name (string), age (integer), and height (float). \n",
    "Convert the inputs to appropriate types. Print a summary message using the input data.'''\n",
    "\n",
    "name= input(\"name:\")\n",
    "age= int(input(\"age:\"))\n",
    "height= float(input(\"height:\"))\n",
    "\n",
    "print(\"summary of the data:\",name,\"is\",age,\"year old, with the height of\",height,\"cm\")\n",
    " "
   ]
  },
  {
   "cell_type": "code",
   "execution_count": null,
   "id": "7f46db1f-a43b-4b67-b483-e101975f88bf",
   "metadata": {},
   "outputs": [],
   "source": []
  }
 ],
 "metadata": {
  "kernelspec": {
   "display_name": "Python 3 (ipykernel)",
   "language": "python",
   "name": "python3"
  },
  "language_info": {
   "codemirror_mode": {
    "name": "ipython",
    "version": 3
   },
   "file_extension": ".py",
   "mimetype": "text/x-python",
   "name": "python",
   "nbconvert_exporter": "python",
   "pygments_lexer": "ipython3",
   "version": "3.12.4"
  }
 },
 "nbformat": 4,
 "nbformat_minor": 5
}
