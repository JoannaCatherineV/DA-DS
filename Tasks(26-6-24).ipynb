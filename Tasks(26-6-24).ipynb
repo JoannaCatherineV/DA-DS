{
 "cells": [
  {
   "cell_type": "code",
   "execution_count": 21,
   "id": "8ce56fa6-7403-4026-9c1c-bb689fcabe33",
   "metadata": {},
   "outputs": [
    {
     "name": "stdout",
     "output_type": "stream",
     "text": [
      "1st occurence of 'hello'---> 0\n",
      "uppercase---> False\n",
      "lowercase---> True\n"
     ]
    }
   ],
   "source": [
    "\"\"\"\n",
    "Task 1: Extracting and Checking Case\n",
    "1. Given a string, find the first occurrence of the substring \"hello\" .\n",
    "2. Check if the given string is in uppercase .\n",
    "3. Check if the given string is in lowercase .\n",
    "\"\"\"\n",
    "\n",
    "a=\"hello! this is lily\"\n",
    "b=\"hello\"\n",
    "c=a.find(b)\n",
    "print(\"1st occurence of 'hello'--->\",c) # finds the first occurrence of hello in a\n",
    "print(\"uppercase--->\",a.isupper()) # checks if the string is in uppercase if yes, the output will be true else, false\n",
    "print(\"lowercase--->\",a.islower()) # checks if the string is in lowercase if yes, the output will be true else, false"
   ]
  },
  {
   "cell_type": "code",
   "execution_count": 22,
   "id": "9d31569d-5c70-44f3-bf76-cc54203c5954",
   "metadata": {},
   "outputs": [
    {
     "name": "stdout",
     "output_type": "stream",
     "text": [
      "last occurrence of 'a' : 31\n",
      "numeric---> False\n",
      "alphabets---> False\n"
     ]
    }
   ],
   "source": [
    "'''\n",
    "Task 2: Numerical and Alphabetical Checks\n",
    "1. Given a string, use `rfind()` to locate the last occurrence of the character \"a\".\n",
    "2. Check if the given string is numeric.\n",
    "3. Check if the given string is alphabetic.\n",
    "'''\n",
    "a=\"Python is a user-friendly language\"\n",
    "print(\"last occurrence of 'a' :\",a.rfind(\"a\")) \n",
    "print(\"numeric--->\",a.isnumeric()) # only superscripts,fractions and decimal numbers\n",
    "print(\"alphabets--->\",a.isalpha()) #has space in between the words which are not counted as alphabets, so o/p---> false"
   ]
  },
  {
   "cell_type": "code",
   "execution_count": 19,
   "id": "aef4930b-322f-409b-8f94-d25d14d5d1d1",
   "metadata": {},
   "outputs": [
    {
     "name": "stdout",
     "output_type": "stream",
     "text": [
      "first occuraence of '3': 2\n",
      "decimal number---> False\n",
      "alphanumeric---> True\n"
     ]
    }
   ],
   "source": [
    "'''\n",
    "Task 3: Alphanumeric Validation\n",
    "1. Given a string, find the first occurrence of the digit \"3\" using `find()`.\n",
    "2. Check if the given string is a decimal number .\n",
    "3. Check if the given string is an alphanumeric\n",
    "'''\n",
    "x=\"153423697cfhweudj\"\n",
    "print(\"first occuraence of '3':\",x.find(\"3\"))\n",
    "print(\"decimal number--->\",x.isdecimal()) #only 0-9\n",
    "print(\"alphanumeric--->\",x.isalnum())"
   ]
  },
  {
   "cell_type": "code",
   "execution_count": null,
   "id": "c2275d4e-d405-4997-8fba-34bba298b541",
   "metadata": {},
   "outputs": [],
   "source": []
  }
 ],
 "metadata": {
  "kernelspec": {
   "display_name": "Python 3 (ipykernel)",
   "language": "python",
   "name": "python3"
  },
  "language_info": {
   "codemirror_mode": {
    "name": "ipython",
    "version": 3
   },
   "file_extension": ".py",
   "mimetype": "text/x-python",
   "name": "python",
   "nbconvert_exporter": "python",
   "pygments_lexer": "ipython3",
   "version": "3.12.4"
  }
 },
 "nbformat": 4,
 "nbformat_minor": 5
}
