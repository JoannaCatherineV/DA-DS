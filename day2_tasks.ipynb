{
 "cells": [
  {
   "cell_type": "code",
   "execution_count": 20,
   "id": "52445ccd-dcfc-4b26-aa0a-cb5e80103fb8",
   "metadata": {},
   "outputs": [
    {
     "name": "stdin",
     "output_type": "stream",
     "text": [
      "enter sentence: This is the story of Ma Barker, the meanest cat from old Chicago town\n"
     ]
    },
    {
     "name": "stdout",
     "output_type": "stream",
     "text": [
      "number of words in this sentence is 14\n"
     ]
    }
   ],
   "source": [
    "'''\n",
    "Task 1: Count Words in a Sentence\n",
    "Write a function that counts the number of words in a given sentence.\n",
    "'''\n",
    "\n",
    "s=input(\"enter sentence:\")  # getting input from the user\n",
    "wc=1                        # initializing a variable called word count(wc) \n",
    "for i in s:                 # for loop to iterate through the string\n",
    "    if i==\" \":              # if there is a space in between a character\n",
    "        wc=wc+1             # The word count should increase to one\n",
    "print(\"number of words in this sentence is\",wc) "
   ]
  },
  {
   "cell_type": "code",
   "execution_count": 19,
   "id": "f627de67-39d5-43f5-b834-181342dd97d2",
   "metadata": {},
   "outputs": [
    {
     "name": "stdin",
     "output_type": "stream",
     "text": [
      "enter a word: blue\n"
     ]
    },
    {
     "name": "stdout",
     "output_type": "stream",
     "text": [
      "no. of vowels in a string: 2\n"
     ]
    }
   ],
   "source": [
    "'''\n",
    "Task 2: Count Vowels in a String\n",
    "Write a function that takes a string as input and counts the number of vowels (a, e, i, o, u) in the string.\n",
    "'''\n",
    "vow=['a','e','i','o','u']   # creating a variable called vowels which store vowels in a list\n",
    "c=0                         # iniatializing a variable called count\n",
    "word=input(\"enter a word:\") # getting input from the user\n",
    "for i in word:              # for loop to iterate through the string\n",
    "    if i in vow:            # if condition to check whether the character in a string is in the variable vowels\n",
    "        c=c+1               # if present-increment the count value by one\n",
    "print(\"no. of vowels in a string:\",c)"
   ]
  },
  {
   "cell_type": "code",
   "execution_count": 16,
   "id": "70c1e295-53ef-4d74-83d5-93d34b475495",
   "metadata": {},
   "outputs": [
    {
     "name": "stdout",
     "output_type": "stream",
     "text": [
      "It is palindrome\n"
     ]
    }
   ],
   "source": [
    "'''\n",
    "Task 3: Check for Palindrome\n",
    "Write a function that checks whether a given string is a palindrome (reads the same backward as forward).\n",
    "'''\n",
    "a=\"abba\"\n",
    "b=\"abba\"\n",
    "\n",
    "if a==b:\n",
    "    print(\"It is palindrome\")\n",
    "else:\n",
    "    print(\"not palindrome\")\n",
    "          "
   ]
  },
  {
   "cell_type": "code",
   "execution_count": 18,
   "id": "1abae9cc-d9b1-4bdf-a8e8-d798bd40437e",
   "metadata": {},
   "outputs": [
    {
     "name": "stdin",
     "output_type": "stream",
     "text": [
      "enter num: 3\n"
     ]
    },
    {
     "name": "stdout",
     "output_type": "stream",
     "text": [
      "sum of all num: 6\n"
     ]
    }
   ],
   "source": [
    "'''Task 4: Sum of Numbers\n",
    "Write a program that calculates the sum of all numbers from 1 to a user-specified number using a for loop.\n",
    "'''\n",
    "a=0 #initializing the variable\n",
    "b=int(input(\"enter num:\")) #input from the user\n",
    "for i in range(1,b+1): #for loop runs within the range specified(from 1 to the user defined number)\n",
    "    a=i+a       # add the value(i) with the variable \n",
    "print(\"sum of all num:\",a)"
   ]
  },
  {
   "cell_type": "code",
   "execution_count": 9,
   "id": "3de0f4a9-e76a-4ffb-9cc0-594dd9b9f4b6",
   "metadata": {},
   "outputs": [
    {
     "name": "stdout",
     "output_type": "stream",
     "text": [
      "0\n",
      "2\n",
      "4\n",
      "6\n",
      "8\n",
      "10\n",
      "12\n",
      "14\n",
      "16\n",
      "18\n",
      "20\n"
     ]
    }
   ],
   "source": [
    "'''\n",
    "Task 5: Even Numbers Using While Loop\n",
    "Write a program that prints all even numbers between 1 and 20 (inclusive) using a while loop.\n",
    "'''\n",
    "i=0\n",
    "while i%2==0 and i<=20: \n",
    "  print(i)\n",
    "  i=i+2"
   ]
  }
 ],
 "metadata": {
  "kernelspec": {
   "display_name": "Python 3 (ipykernel)",
   "language": "python",
   "name": "python3"
  },
  "language_info": {
   "codemirror_mode": {
    "name": "ipython",
    "version": 3
   },
   "file_extension": ".py",
   "mimetype": "text/x-python",
   "name": "python",
   "nbconvert_exporter": "python",
   "pygments_lexer": "ipython3",
   "version": "3.12.4"
  }
 },
 "nbformat": 4,
 "nbformat_minor": 5
}
