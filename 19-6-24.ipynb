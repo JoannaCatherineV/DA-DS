{
 "cells": [
  {
   "cell_type": "code",
   "execution_count": 6,
   "id": "a860a87c-6ed1-41da-847f-244a812f1c59",
   "metadata": {},
   "outputs": [
    {
     "name": "stdout",
     "output_type": "stream",
     "text": [
      "Addition: 9\n",
      "Subtraction: 3\n",
      "Multiplication: 18\n",
      "division: 2.0\n",
      "floor division: 2\n",
      "modulo: 0\n"
     ]
    }
   ],
   "source": [
    "'''\n",
    "Task 4: Using Operators Create a Python script. Declare and initialize variables. Perform arithmetic operations (+, -, , /, //, %, *). Use comparison operators (==, !=, >, <, >=, <=). \n",
    "Use logical operators (and, or, not). Print the results of these operations.\n",
    "'''\n",
    "\n",
    "a=6\n",
    "b=3\n",
    "\n",
    "#arithmetic operator\n",
    "c= a+b\n",
    "d= a-b\n",
    "e= a*b\n",
    "f= a/b\n",
    "g= a//b\n",
    "h= a%b\n",
    "print(\"Addition:\",c)\n",
    "print(\"Subtraction:\",d)\n",
    "print(\"Multiplication:\",e)\n",
    "print(\"division:\",f)\n",
    "print(\"floor division:\",g)\n",
    "print(\"modulo:\",h)"
   ]
  },
  {
   "cell_type": "code",
   "execution_count": 10,
   "id": "d6a2ff89-f2dd-4910-857e-15d112012601",
   "metadata": {},
   "outputs": [
    {
     "name": "stdout",
     "output_type": "stream",
     "text": [
      "False\n",
      "True\n",
      "True\n",
      "False\n",
      "True\n",
      "False\n"
     ]
    }
   ],
   "source": [
    "#comparison operator\n",
    "print(a==b)\n",
    "print(a!=b)\n",
    "print(a>b)\n",
    "print(a<b)\n",
    "print(a>=b)\n",
    "print(a<=b)"
   ]
  },
  {
   "cell_type": "code",
   "execution_count": 16,
   "id": "1c0e34f7-cccb-4235-ab86-1ba17dacb93e",
   "metadata": {},
   "outputs": [
    {
     "name": "stdout",
     "output_type": "stream",
     "text": [
      "True\n",
      "True\n",
      "False\n"
     ]
    }
   ],
   "source": [
    "#logical operator\n",
    "print((a>b) and (b<a))\n",
    "print((a!=b) or (a==b))\n",
    "print(not(a!=b))"
   ]
  },
  {
   "cell_type": "code",
   "execution_count": 17,
   "id": "8b4900a5-2df9-497f-8284-709aebe900a2",
   "metadata": {},
   "outputs": [
    {
     "name": "stdout",
     "output_type": "stream",
     "text": [
      "a is smaller than b\n"
     ]
    }
   ],
   "source": [
    "'''\n",
    "Task 5: Conditional Statements Create a Python script. Declare and initialize a variable. Use if, elif, and else statements to make decisions based on the value of the variable. \n",
    "Print appropriate messages based on the conditions.\n",
    "'''\n",
    "\n",
    "a=5\n",
    "b=10\n",
    "\n",
    "if a>b:\n",
    "    print(\"a is greater than b\")\n",
    "else:\n",
    "    print(\"a is smaller than b\")"
   ]
  },
  {
   "cell_type": "code",
   "execution_count": 19,
   "id": "1f41558b-4054-4649-9a16-4539b9cca2e7",
   "metadata": {},
   "outputs": [
    {
     "name": "stdout",
     "output_type": "stream",
     "text": [
      "b is even\n"
     ]
    }
   ],
   "source": [
    "if a%2==0:\n",
    "    print(\"a is even\")\n",
    "elif b%2==0:\n",
    "    print(\"b is even\")\n",
    "else:\n",
    "    print(\"nothing works\")"
   ]
  }
 ],
 "metadata": {
  "kernelspec": {
   "display_name": "Python 3 (ipykernel)",
   "language": "python",
   "name": "python3"
  },
  "language_info": {
   "codemirror_mode": {
    "name": "ipython",
    "version": 3
   },
   "file_extension": ".py",
   "mimetype": "text/x-python",
   "name": "python",
   "nbconvert_exporter": "python",
   "pygments_lexer": "ipython3",
   "version": "3.12.4"
  }
 },
 "nbformat": 4,
 "nbformat_minor": 5
}
